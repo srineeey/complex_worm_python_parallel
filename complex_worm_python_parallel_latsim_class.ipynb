{
 "cells": [
  {
   "cell_type": "code",
   "execution_count": 1,
   "metadata": {},
   "outputs": [
    {
     "data": {
      "text/plain": [
       "'\\nfrom tqdm.notebook import tqdm\\n'"
      ]
     },
     "execution_count": 1,
     "metadata": {},
     "output_type": "execute_result"
    }
   ],
   "source": [
    "import numpy as np\n",
    "import scipy as scp\n",
    "import pandas as pd\n",
    "import matplotlib.pyplot as plt\n",
    "import seaborn as sns\n",
    "from numba import jit\n",
    "from numba import cuda\n",
    "\n",
    "import os\n",
    "import glob\n",
    "import time\n",
    "import IPython.display\n",
    "\n",
    "from lat_class_parallel import *\n",
    "\"\"\"\n",
    "from tqdm.notebook import tqdm\n",
    "\"\"\""
   ]
  },
  {
   "cell_type": "code",
   "execution_count": 2,
   "metadata": {},
   "outputs": [
    {
     "name": "stdout",
     "output_type": "stream",
     "text": [
      "[2 2 3 3]\n",
      "Setting worm to tail: [[1 0]\n",
      " [1 2]], head: [[[1 0]\n",
      "  [0 0]]\n",
      "\n",
      " [[1 2]\n",
      "  [0 0]]]\n",
      "\n",
      "with k_delta: [-1 -1]\n",
      "\n"
     ]
    }
   ],
   "source": [
    "kl_sim = lattice_sim()"
   ]
  },
  {
   "cell_type": "code",
   "execution_count": 3,
   "metadata": {},
   "outputs": [],
   "source": [
    "seed = 42\n",
    "np.random.seed(seed)"
   ]
  },
  {
   "cell_type": "code",
   "execution_count": null,
   "metadata": {},
   "outputs": [
    {
     "name": "stdout",
     "output_type": "stream",
     "text": [
      "Iteration 2\n"
     ]
    },
    {
     "data": {
      "image/png": "[encoded data removed]",
      "text/plain": [
       "<Figure size 432x288 with 1 Axes>"
      ]
     },
     "metadata": {
      "needs_background": "light"
     },
     "output_type": "display_data"
    },
    {
     "data": {
      "image/png": "[encoded data removed]",
      "text/plain": [
       "<Figure size 432x288 with 1 Axes>"
      ]
     },
     "metadata": {
      "needs_background": "light"
     },
     "output_type": "display_data"
    },
    {
     "name": "stdout",
     "output_type": "stream",
     "text": [
      "before move\n",
      "head: \n",
      "[[[2 0]\n",
      "  [2 0]]\n",
      "\n",
      " [[2 1]\n",
      "  [2 1]]]\n",
      "tail:\n",
      "[[1 0]\n",
      " [1 2]]\n",
      "proposing move_dim:\n",
      " [1 1]\n",
      "proposing sign:\n",
      " [1 0]\n",
      "proposing move_i:\n",
      " [3 1]\n",
      "transforming link index\n",
      "possibly invalid link index:\n",
      " [[1 2 0]\n",
      " [1 2 1]]\n",
      "valid link index:\n",
      " [[1 2 0]\n",
      " [1 2 1]]\n",
      "proposing new heads:\n",
      " [[1 2]\n",
      " [1 0]]\n",
      "dk: [ 1 -1]\n",
      "df: [2 2]\n",
      "counting collisions\n",
      "creating new collision for 0\n",
      "creating new collision for 1\n",
      "raw collisions:\n",
      "[]\n",
      "rectangular collisions:\n",
      "[]\n",
      "collisions:\n",
      "[[2 2 2 2]]\n",
      "containing worms: []\n",
      "not containing worms: []\n",
      "Starting Metropolis algorithm for all worms\n",
      "dk: [ 1 -1]\n",
      "df: [2 2]\n",
      "Calculating acceptance probability for all 2 worms\n",
      "k_old [0 0]\n",
      "dk [ 1 -1]\n",
      "k_prop [ 1 -1]\n",
      "df [2 2]\n",
      "df_new_head [0 0]\n",
      "p [1 1]\n",
      "accepted\n",
      "worm 0 adjusts link [1 2 0]\n",
      "k before 0\n",
      "k after 1\n",
      "f before 2\n",
      "f after 4\n",
      "head before [2 0]\n",
      "head after [1 2]\n",
      "accepted\n",
      "worm 1 adjusts link [1 2 1]\n",
      "k before 0\n",
      "k after -1\n",
      "f before 0\n",
      "f after 2\n",
      "head before [2 1]\n",
      "head after [1 0]\n",
      "after move\n",
      "head: \n",
      "[[[1 2]\n",
      "  [1 2]]\n",
      "\n",
      " [[1 0]\n",
      "  [1 0]]]\n",
      "tail:\n",
      "[[1 0]\n",
      " [1 2]]\n"
     ]
    }
   ],
   "source": [
    "\"\"\"main worm loop\"\"\"\n",
    "num_iter = 20\n",
    "\n",
    "max_iter = 10\n",
    "\n",
    "\n",
    "finished = False\n",
    "\n",
    "#limit the number of iteration/worms\n",
    "for i in range(num_iter):\n",
    "    print(f\"Iteration {i}\")\n",
    "        \n",
    "    for i_worm in range(kl_sim.num_worms):\n",
    "        kl_sim.print_env_worm(kl_sim.lat_size, kl_sim.head[i_worm,0], kl_sim.tail[i_worm])\n",
    "    \n",
    "    print(\"before move\")\n",
    "    print(\"head: \")\n",
    "    head = kl_sim.head\n",
    "    tail = kl_sim.tail\n",
    "    print(f\"{head}\")\n",
    "    print(\"tail:\")\n",
    "    print(f\"{tail}\")\n",
    "        \n",
    "    ##randomly choose moves\n",
    "    \"\"\"not updating k_change in class!!!\"\"\"\n",
    "    #(move_dim, move_sign, move_i, move_set, moves, head, worm_link_coord, k_delta, dk, df, k_change, f_change, num_worms, lat_size, dim)\n",
    "    kl_sim.propose_moves(\n",
    "        kl_sim.move_dim,\n",
    "        kl_sim.move_sign,\n",
    "        kl_sim.move_i,\n",
    "        kl_sim.move_set,\n",
    "        kl_sim.moves,\n",
    "        kl_sim.head,\n",
    "        kl_sim.worm_link_coord,\n",
    "        kl_sim.k_delta,\n",
    "        kl_sim.k_links,\n",
    "        kl_sim.dk, \n",
    "        kl_sim.df,\n",
    "        kl_sim.k_change,\n",
    "        kl_sim.f_change,\n",
    "        kl_sim.num_worms,\n",
    "        kl_sim.lat_size,\n",
    "        kl_sim.dim\n",
    "    )\n",
    "        \n",
    "    ##check collisions!\n",
    "    #head, hoc_dist_ij, lc_dist_ij, num_worms, np_collisions, collision_worms, non_collision_worms, lc_hoc_bool):\n",
    "    kl_sim.count_collisions(\n",
    "        kl_sim.head,\n",
    "        kl_sim.hoc_dist_ij,\n",
    "        kl_sim.lc_dist_ij,\n",
    "        kl_sim.num_worms,\n",
    "        kl_sim.collisions,\n",
    "        kl_sim.collision_worms,\n",
    "        kl_sim.non_collision_worms,\n",
    "        kl_sim.lc_hoc_bool        \n",
    "    )\n",
    "        \n",
    "    print(f\"collisions:\\n{kl_sim.collisions}\")\n",
    "    print(f\"containing worms: {kl_sim.collision_worms}\")\n",
    "    print(f\"not containing worms: {kl_sim.non_collision_worms}\")\n",
    "\n",
    "    ##chekc whether there actually are any collisions\n",
    "    if len(kl_sim.collision_worms) > 0:\n",
    "        ##yes there are!\n",
    "        ##sample these first\n",
    "        ##sample_k_worm_collision_queues(collisions, l_links, k_links, mu, head, tail, worm_link_coord, dk, df, W, f, num_worms)\n",
    "        kl_sim.sample_k_worm_collision_queues(\n",
    "            kl_sim.collisions,\n",
    "            kl_sim.l_links,\n",
    "            kl_sim.k_links,\n",
    "            kl_sim.mu,\n",
    "            kl_sim.head,\n",
    "            kl_sim.tail,\n",
    "            kl_sim.worm_link_coord,\n",
    "            kl_sim.dk,\n",
    "            kl_sim.df,\n",
    "            kl_sim.W,\n",
    "            kl_sim.f,\n",
    "            kl_sim.worm_closed,\n",
    "            kl_sim.num_worms\n",
    "        )\n",
    "        ##set the changes of sampled collision worms to zero\n",
    "        ##for the next step (sample ALL worms including these, their effect will be zero nonetheless\n",
    "        ##because the change associated with them is 0)\n",
    "        \"\"\"DONT UNCOMMENT\"\"\"\n",
    "        kl_sim.set_df_dk_zero(kl_sim.df, kl_dim.dk, kl_sim.collision_worms)\n",
    "            \n",
    "    ##sample ALL worms\n",
    "    ##sample_k_worm_all(l_links, k_links, mu, head, tail, worm_link_coord, i_worm, dk, df, W, f, num_worms)\n",
    "    ##(l_links, k_links, mu, head, tail, worm_link_coord, dk, df, W, f, worm_closed, num_worms)\n",
    "    kl_sim.sample_k_worm_all(\n",
    "        kl_sim.l_links,\n",
    "        kl_sim.k_links,\n",
    "        kl_sim.mu,\n",
    "        kl_sim.head,\n",
    "        kl_sim.tail,\n",
    "        kl_sim.worm_link_coord,\n",
    "        kl_sim.dk,\n",
    "        kl_sim.df,\n",
    "        kl_sim.W,\n",
    "        kl_sim.f,\n",
    "        kl_sim.worm_closed,\n",
    "        kl_sim.num_worms\n",
    "    )\n",
    "        \n",
    "    print(\"after move\")\n",
    "    print(\"head: \")\n",
    "    head = kl_sim.head\n",
    "    tail = kl_sim.tail\n",
    "    print(f\"{head}\")\n",
    "    print(\"tail:\")\n",
    "    print(f\"{tail}\")\n",
    "        \n",
    "        \n",
    "    input(\"Press Enter to continue...\")\n",
    "    time.sleep(1.0)\n",
    "    IPython.display.clear_output(wait=True)\n",
    "    \n",
    "    closed_i_worms = [i for i in range(kl_sim.num_worms) if kl_sim.worm_closed[i_worm] == True]\n",
    "    if i < max_iter:\n",
    "        ##reset finished worms\n",
    "        for closed_i_worm in closed_i_worms:\n",
    "            ##head==tail!\n",
    "            ##reset worm\n",
    "            kl_sim.reset_worm(kl_sim.tail, kl_sim.head, kl_sim.worm_link_coord, closed_i_worm, kl_sim.k_delta, kl_sim.lat_size, kl_sim.dim)\n",
    "                \n",
    "        \n",
    "    else:   \n",
    "        ##dont reset worms, but  remove them!\n",
    "        ##decrease number of worms kl_sim.num_worms\n",
    "        ##reshape head, tail, dk, df, p\n",
    "        open_worms = []\n",
    "        new_num_worms = kl_sim.num_worms - len(closed_i_worms)\n",
    "        for i_worm in closed_i_worms:\n",
    "            ##remove this worm\n",
    "            pass\n",
    "                \n",
    "            \n",
    "    input(\"Press Enter to continue...\")\n",
    "    time.sleep(1.0)\n",
    "    IPython.display.clear_output(wait=True)"
   ]
  },
  {
   "cell_type": "code",
   "execution_count": null,
   "metadata": {},
   "outputs": [],
   "source": [
    "\"\"\"\n",
    "What is missing?\n",
    "Save df0 when staring worms\n",
    "Set df correctly\n",
    "Check for tails and accomodate for df0\n",
    "f update is not working (indexing problem?)\n",
    "p is not correctly drawn?\n",
    "if n_iter is exceeded, remove worms and shrink the worm arrays\n",
    "\"\"\""
   ]
  },
  {
   "cell_type": "code",
   "execution_count": null,
   "metadata": {},
   "outputs": [],
   "source": []
  },
  {
   "cell_type": "code",
   "execution_count": null,
   "metadata": {},
   "outputs": [],
   "source": []
  },
  {
   "cell_type": "code",
   "execution_count": null,
   "metadata": {},
   "outputs": [],
   "source": []
  },
  {
   "cell_type": "code",
   "execution_count": null,
   "metadata": {},
   "outputs": [],
   "source": []
  }
 ],
 "metadata": {
  "kernelspec": {
   "display_name": "Python 3",
   "language": "python",
   "name": "python3"
  },
  "language_info": {
   "codemirror_mode": {
    "name": "ipython",
    "version": 3
   },
   "file_extension": ".py",
   "mimetype": "text/x-python",
   "name": "python",
   "nbconvert_exporter": "python",
   "pygments_lexer": "ipython3",
   "version": "3.7.4"
  }
 },
 "nbformat": 4,
 "nbformat_minor": 2
}
